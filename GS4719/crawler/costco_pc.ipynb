{
 "cells": [
  {
   "cell_type": "code",
   "execution_count": 6,
   "id": "606bf345-68f6-48a0-bcc9-239923e1ff9b",
   "metadata": {},
   "outputs": [],
   "source": [
    "from bs4 import BeautifulSoup\n",
    "import requests"
   ]
  },
  {
   "cell_type": "code",
   "execution_count": 9,
   "id": "e9e663ba-f976-4c16-b438-3c427f16b772",
   "metadata": {},
   "outputs": [],
   "source": [
    "costco_pc_page = requests.get('https://www.costco.com.tw/Computers/Tablets-Laptops-Desktops/Tablets-Laptops/c/20201')\n",
    "costco_pc_page_text = costco_pc_page.text"
   ]
  },
  {
   "cell_type": "code",
   "execution_count": 10,
   "id": "26c170c4-cac0-412d-a6fd-0483924808a1",
   "metadata": {},
   "outputs": [],
   "source": [
    "costco_pc_bs4_obj = BeautifulSoup(costco_pc_page_text, 'html.parser')"
   ]
  },
  {
   "cell_type": "code",
   "execution_count": 11,
   "id": "d6906dc7-b074-4c72-9c87-a0b71306d2af",
   "metadata": {},
   "outputs": [
    {
     "data": {
      "text/plain": [
       "[<span _ngcontent-sc419=\"\">顯示 1 - 9 之 9</span>]"
      ]
     },
     "execution_count": 11,
     "metadata": {},
     "output_type": "execute_result"
    }
   ],
   "source": [
    "costco_pc_bs4_obj.select('div.search-layout-btn-container div.search-pagination-container span')"
   ]
  },
  {
   "cell_type": "code",
   "execution_count": 12,
   "id": "604bebb9-6946-4a4e-89c9-3fe1870d2ca0",
   "metadata": {},
   "outputs": [
    {
     "data": {
      "text/plain": [
       "'顯示 1 - 9 之 9'"
      ]
     },
     "execution_count": 12,
     "metadata": {},
     "output_type": "execute_result"
    }
   ],
   "source": [
    "costco_pc_bs4_obj.select('div.search-layout-btn-container div.search-pagination-container span')[0].text"
   ]
  }
 ],
 "metadata": {
  "kernelspec": {
   "display_name": "Python 3 (ipykernel)",
   "language": "python",
   "name": "python3"
  },
  "language_info": {
   "codemirror_mode": {
    "name": "ipython",
    "version": 3
   },
   "file_extension": ".py",
   "mimetype": "text/x-python",
   "name": "python",
   "nbconvert_exporter": "python",
   "pygments_lexer": "ipython3",
   "version": "3.9.6"
  }
 },
 "nbformat": 4,
 "nbformat_minor": 5
}
